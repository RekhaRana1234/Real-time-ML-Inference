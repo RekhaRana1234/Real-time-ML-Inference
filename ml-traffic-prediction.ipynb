{
 "cells": [
  {
   "cell_type": "markdown",
   "id": "d2ec056f",
   "metadata": {},
   "source": [
    "# Machine Learning Training "
   ]
  },
  {
   "cell_type": "markdown",
   "id": "dd0a1d0c",
   "metadata": {},
   "source": [
    "Model Training for GEANT Dataset"
   ]
  },
  {
   "cell_type": "code",
   "execution_count": 1,
   "id": "cc565585",
   "metadata": {},
   "outputs": [],
   "source": [
    "# import required packages\n",
    "\n",
    "import numpy as np\n",
    "import matplotlib.pyplot as plt\n",
    "import tensorflow as tf\n",
    "import pandas as pd\n",
    "from keras.models import Sequential\n",
    "from keras.layers import Dense, LSTM\n",
    "from sklearn.preprocessing import MinMaxScaler\n",
    "from sklearn.metrics import mean_squared_error\n",
    "import warnings\n",
    "import logging\n",
    "import h5py\n",
    "\n",
    "logging.basicConfig(level=logging.WARN)\n",
    "looger = logging.getLogger(__name__)"
   ]
  },
  {
   "cell_type": "markdown",
   "id": "ea80f498",
   "metadata": {},
   "source": [
    "Download and load the GEANT dataset [Dataset](https://public-brian.geant.org/d/home/home?orgId=5&from=now-2y&to=now&inspect=6)"
   ]
  },
  {
   "cell_type": "markdown",
   "id": "43044dd2",
   "metadata": {},
   "source": [
    "Save the file in Traffic-Dataset.csv"
   ]
  },
  {
   "cell_type": "markdown",
   "id": "c88f275b",
   "metadata": {},
   "source": [
    "#### Load the dataset"
   ]
  },
  {
   "cell_type": "code",
   "execution_count": 2,
   "id": "dee4b0a7",
   "metadata": {},
   "outputs": [],
   "source": [
    "dataframe = pd.read_csv('Traffic-Dataset.csv', usecols=[1])\n",
    "dataset   = dataframe.values\n",
    "dataset   = dataset.astype('float32')"
   ]
  },
  {
   "cell_type": "code",
   "execution_count": 3,
   "id": "9d4e9ef8",
   "metadata": {},
   "outputs": [],
   "source": [
    "tf.random.set_seed(7)"
   ]
  },
  {
   "cell_type": "markdown",
   "id": "7b10c928",
   "metadata": {},
   "source": [
    "#### Feature Engineering"
   ]
  },
  {
   "cell_type": "code",
   "execution_count": 4,
   "id": "f2180bf2",
   "metadata": {},
   "outputs": [],
   "source": [
    "scaler = MinMaxScaler(feature_range=(0,1))\n",
    "dataset = scaler.fit_transform(dataset)"
   ]
  },
  {
   "cell_type": "code",
   "execution_count": 5,
   "id": "c996ca81",
   "metadata": {},
   "outputs": [],
   "source": [
    "train = dataset[:,:]"
   ]
  },
  {
   "cell_type": "markdown",
   "id": "edfc7393",
   "metadata": {},
   "source": [
    "#### Define Windowed Dataset"
   ]
  },
  {
   "cell_type": "code",
   "execution_count": 6,
   "id": "acd14b1b",
   "metadata": {},
   "outputs": [],
   "source": [
    "def windowed_dataset(data, window_size, batch_size, buffer):\n",
    "  dataset = tf.data.Dataset.from_tensor_slices(data)\n",
    "  dataset = dataset.window(window_size + 1, shift=1, drop_remainder=True)\n",
    "  dataset = dataset.flat_map(lambda window: window.batch(window_size + 1))\n",
    "  dataset = dataset.shuffle(buffer).map(lambda window: (window[:-1], window[-1]))\n",
    "  dataset = dataset.batch(batch_size).prefetch(1)\n",
    "  return dataset"
   ]
  },
  {
   "cell_type": "markdown",
   "id": "ec9267e3",
   "metadata": {},
   "source": [
    "#### Training Parameters"
   ]
  },
  {
   "cell_type": "code",
   "execution_count": 7,
   "id": "3bb0afa7",
   "metadata": {},
   "outputs": [],
   "source": [
    "look_back = 1\n",
    "iternations = 10\n",
    "number_batch = 10"
   ]
  },
  {
   "cell_type": "markdown",
   "id": "9ccb3bea",
   "metadata": {},
   "source": [
    "#### Create windowed dataset for training"
   ]
  },
  {
   "cell_type": "code",
   "execution_count": 9,
   "id": "6839d9bf",
   "metadata": {},
   "outputs": [],
   "source": [
    "train = windowed_dataset(dataset, look_back, iternations, len(dataset))"
   ]
  },
  {
   "cell_type": "markdown",
   "id": "17354711",
   "metadata": {},
   "source": [
    "#### Train the model using LSTM "
   ]
  },
  {
   "cell_type": "code",
   "execution_count": 10,
   "id": "82a991e7",
   "metadata": {},
   "outputs": [
    {
     "name": "stdout",
     "output_type": "stream",
     "text": [
      "Epoch 1/10\n",
      "4378/4378 [==============================] - 11s 2ms/step - loss: 0.0041\n",
      "Epoch 2/10\n",
      "4378/4378 [==============================] - 9s 1ms/step - loss: 0.0013\n",
      "Epoch 3/10\n",
      "4378/4378 [==============================] - 8s 1ms/step - loss: 0.0013\n",
      "Epoch 4/10\n",
      "4378/4378 [==============================] - 8s 1ms/step - loss: 0.0013\n",
      "Epoch 5/10\n",
      "4378/4378 [==============================] - 8s 1ms/step - loss: 0.0013\n",
      "Epoch 6/10\n",
      "4378/4378 [==============================] - 8s 1ms/step - loss: 0.0013\n",
      "Epoch 7/10\n",
      "4378/4378 [==============================] - 8s 1ms/step - loss: 0.0013\n",
      "Epoch 8/10\n",
      "4378/4378 [==============================] - 8s 1ms/step - loss: 0.0013\n",
      "Epoch 9/10\n",
      "4378/4378 [==============================] - 8s 1ms/step - loss: 0.0013\n",
      "Epoch 10/10\n",
      "4378/4378 [==============================] - 8s 1ms/step - loss: 0.0013\n"
     ]
    },
    {
     "data": {
      "text/plain": [
       "<keras.callbacks.History at 0x2397ad6e590>"
      ]
     },
     "execution_count": 10,
     "metadata": {},
     "output_type": "execute_result"
    }
   ],
   "source": [
    "model = Sequential()\n",
    "model.add(LSTM(4, input_shape=(1, look_back)))\n",
    "model.add(Dense(1))\n",
    "model.compile(loss='mean_squared_error', optimizer='adam')\n",
    "model.fit(train, epochs=iternations, batch_size=number_batch, verbose=1)"
   ]
  },
  {
   "cell_type": "markdown",
   "id": "d3d31efb",
   "metadata": {},
   "source": [
    "#### Run the model prediction "
   ]
  },
  {
   "cell_type": "code",
   "execution_count": 11,
   "id": "1214840a",
   "metadata": {},
   "outputs": [
    {
     "name": "stdout",
     "output_type": "stream",
     "text": [
      "4378/4378 [==============================] - 6s 793us/step\n"
     ]
    }
   ],
   "source": [
    "trainPrediction = model.predict(train)"
   ]
  },
  {
   "cell_type": "markdown",
   "id": "31045a29",
   "metadata": {},
   "source": [
    "#### Prepare the data for prediction"
   ]
  },
  {
   "cell_type": "code",
   "execution_count": null,
   "id": "c4aed9ce",
   "metadata": {},
   "outputs": [],
   "source": [
    "trainPrediction = scaler.inverse_transform(trainPrediction)\n",
    "trainPredictPlot = np.empty_like(dataset)\n",
    "trainPredictPlot[:, :] = np.nan\n",
    "trainPredictPlot[look_back:len(trainPrediction)+look_back, :] = trainPrediction"
   ]
  },
  {
   "cell_type": "markdown",
   "id": "3e7e47ff",
   "metadata": {},
   "source": [
    "#### Ploting the prediction"
   ]
  },
  {
   "cell_type": "code",
   "execution_count": 13,
   "id": "cad44ae0",
   "metadata": {},
   "outputs": [
    {
     "data": {
      "image/png": "[encoded data removed]",
      "text/plain": [
       "<Figure size 640x480 with 1 Axes>"
      ]
     },
     "metadata": {},
     "output_type": "display_data"
    }
   ],
   "source": [
    "fig = plt.figure()\n",
    "plt.plot(scaler.inverse_transform(dataset), label='Original Values')\n",
    "plt.plot(trainPredictPlotion, label='Predicted values')\n",
    "plt.legend()\n",
    "plt.show()"
   ]
  },
  {
   "cell_type": "markdown",
   "id": "baf752f9",
   "metadata": {},
   "source": [
    "#### Save the model"
   ]
  },
  {
   "cell_type": "code",
   "execution_count": 15,
   "id": "5c3f933f",
   "metadata": {},
   "outputs": [],
   "source": [
    "model.save(\"model.h5\")"
   ]
  }
 ],
 "metadata": {
  "kernelspec": {
   "display_name": "Python 3 (ipykernel)",
   "language": "python",
   "name": "python3"
  },
  "language_info": {
   "codemirror_mode": {
    "name": "ipython",
    "version": 3
   },
   "file_extension": ".py",
   "mimetype": "text/x-python",
   "name": "python",
   "nbconvert_exporter": "python",
   "pygments_lexer": "ipython3",
   "version": "3.10.9"
  }
 },
 "nbformat": 4,
 "nbformat_minor": 5
}
